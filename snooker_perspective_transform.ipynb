{
 "cells": [
  {
   "cell_type": "markdown",
   "metadata": {},
   "source": [
    "# Snooker Table Perspective Transformation\n",
    "This notebook processes a snooker match video and applies a perspective transformation to get a top-down view of the snooker table."
   ]
  },
  {
   "cell_type": "code",
   "execution_count": null,
   "metadata": {},
   "outputs": [],
   "source": [
    "import cv2\n",
    "import numpy as np\n",
    "from IPython.display import Video, display, HTML\n",
    "import matplotlib.pyplot as plt\n",
    "%matplotlib inline"
   ]
  },
  {
   "cell_type": "code",
   "execution_count": null,
   "metadata": {},
   "outputs": [],
   "source": [
    "def select_points(image, num_points=4):\n",
    "    \"\"\"\n",
    "    Select points on the image for perspective transformation.\n",
    "    Points should be selected in this order:\n",
    "    1. Top-left corner of the table\n",
    "    2. Top-right corner of the table\n",
    "    3. Bottom-right corner of the table\n",
    "    4. Bottom-left corner of the table\n",
    "    \"\"\"\n",
    "    points = []\n",
    "    \n",
    "    def click_event(event, x, y, flags, param):\n",
    "        if event == cv2.EVENT_LBUTTONDOWN:\n",
    "            points.append((x, y))\n",
    "            cv2.circle(image, (x, y), 5, (0, 255, 0), -1)\n",
    "            if len(points) > 1:\n",
    "                cv2.line(image, points[-2], points[-1], (0, 255, 0), 2)\n",
    "            if len(points) == num_points:\n",
    "                cv2.line(image, points[-1], points[0], (0, 255, 0), 2)\n",
    "            cv2.imshow('Select Table Corners', image)\n",
    "    \n",
    "    clone = image.copy()\n",
    "    cv2.namedWindow('Select Table Corners')\n",
    "    cv2.setMouseCallback('Select Table Corners', click_event)\n",
    "    \n",
    "    print(f'Please select {num_points} points in order (press any key when done)')\n",
    "    cv2.imshow('Select Table Corners', clone)\n",
    "    cv2.waitKey(0)\n",
    "    cv2.destroyAllWindows()\n",
    "    \n",
    "    return np.array(points, dtype=np.float32)"
   ]
  },
  {
   "cell_type": "code",
   "execution_count": null,
   "metadata": {},
   "outputs": [],
   "source": [
    "def process_video(input_path, output_path, src_points, output_size=(1000, 2000)):\n",
    "    \"\"\"\n",
    "    Process the video and apply perspective transformation.\n",
    "    \"\"\"\n",
    "    # Define destination points (top-down view)\n",
    "    dst_points = np.array([\n",
    "        [0, 0],\n",
    "        [output_size[0] - 1, 0],\n",
    "        [output_size[0] - 1, output_size[1] - 1],\n",
    "        [0, output_size[1] - 1]\n",
    "    ], dtype=np.float32)\n",
    "    \n",
    "    # Calculate perspective transform matrix\n",
    "    M = cv2.getPerspectiveTransform(src_points, dst_points)\n",
    "    \n",
    "    # Open the video\n",
    "    cap = cv2.VideoCapture(input_path)\n",
    "    if not cap.isOpened():\n",
    "        print(\"Error: Could not open video.\")\n",
    "        return\n",
    
